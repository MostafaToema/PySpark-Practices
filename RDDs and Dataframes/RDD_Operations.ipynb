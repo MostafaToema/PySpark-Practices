{
 "cells": [
  {
   "cell_type": "markdown",
   "id": "2568221b",
   "metadata": {},
   "source": [
    "### Import the required libraries then Create SparkContext"
   ]
  },
  {
   "cell_type": "code",
   "execution_count": 1,
   "id": "63de3e96-6387-496a-9260-0892c49da8fa",
   "metadata": {},
   "outputs": [
    {
     "name": "stderr",
     "output_type": "stream",
     "text": [
      "21/10/31 10:39:39 WARN Utils: Your hostname, TheDragon resolves to a loopback address: 127.0.1.1; using 192.168.1.4 instead (on interface wlo1)\n",
      "21/10/31 10:39:39 WARN Utils: Set SPARK_LOCAL_IP if you need to bind to another address\n",
      "WARNING: An illegal reflective access operation has occurred\n",
      "WARNING: Illegal reflective access by org.apache.spark.unsafe.Platform (file:/opt/spark/jars/spark-unsafe_2.12-3.0.1.jar) to constructor java.nio.DirectByteBuffer(long,int)\n",
      "WARNING: Please consider reporting this to the maintainers of org.apache.spark.unsafe.Platform\n",
      "WARNING: Use --illegal-access=warn to enable warnings of further illegal reflective access operations\n",
      "WARNING: All illegal access operations will be denied in a future release\n",
      "21/10/31 10:39:40 WARN NativeCodeLoader: Unable to load native-hadoop library for your platform... using builtin-java classes where applicable\n",
      "Using Spark's default log4j profile: org/apache/spark/log4j-defaults.properties\n",
      "Setting default log level to \"WARN\".\n",
      "To adjust logging level use sc.setLogLevel(newLevel). For SparkR, use setLogLevel(newLevel).\n"
     ]
    }
   ],
   "source": [
    "import findspark\n",
    "findspark.init()\n",
    "\n",
    "import warnings\n",
    "warnings.filterwarnings(\"ignore\")\n",
    "\n",
    "from pyspark import SparkContext\n",
    "sc = SparkContext()"
   ]
  },
  {
   "cell_type": "markdown",
   "id": "e9a7d9c6",
   "metadata": {},
   "source": [
    "### Create and display an RDD from the following list"
   ]
  },
  {
   "cell_type": "code",
   "execution_count": 2,
   "id": "409084ef",
   "metadata": {},
   "outputs": [],
   "source": [
    "list = [('JK', 22), ('V', 24), ('Jimin',24), ('RM', 25), ('J-Hope', 25), ('Suga', 26), ('Jin', 27)]"
   ]
  },
  {
   "cell_type": "code",
   "execution_count": 3,
   "id": "d5ba0725",
   "metadata": {
    "scrolled": true
   },
   "outputs": [
    {
     "name": "stderr",
     "output_type": "stream",
     "text": [
      "                                                                                \r"
     ]
    },
    {
     "data": {
      "text/plain": [
       "[('JK', 22),\n",
       " ('V', 24),\n",
       " ('Jimin', 24),\n",
       " ('RM', 25),\n",
       " ('J-Hope', 25),\n",
       " ('Suga', 26),\n",
       " ('Jin', 27)]"
      ]
     },
     "execution_count": 3,
     "metadata": {},
     "output_type": "execute_result"
    }
   ],
   "source": [
    "rdd = sc.parallelize(list)\n",
    "rdd.collect()"
   ]
  },
  {
   "cell_type": "markdown",
   "id": "feedfb38",
   "metadata": {},
   "source": [
    "### Read sample1.txt file into RDD and displaying the first 4 elements"
   ]
  },
  {
   "cell_type": "code",
   "execution_count": 4,
   "id": "14f5c55a",
   "metadata": {},
   "outputs": [
    {
     "name": "stderr",
     "output_type": "stream",
     "text": [
      "                                                                                \r"
     ]
    },
    {
     "data": {
      "text/plain": [
       "['Utilitatis causa amicitia est quaesita.',\n",
       " 'Lorem ipsum dolor sit amet, consectetur adipiscing elit. ',\n",
       " 'Collatio igitur ista te nihil iuvat. Honesta oratio, Socratica, Platonis etiam. Primum in nostrane potestate est, quid meminerimus? ',\n",
       " 'Duo Reges: constructio interrete. ']"
      ]
     },
     "execution_count": 4,
     "metadata": {},
     "output_type": "execute_result"
    }
   ],
   "source": [
    "rdd2 = sc.textFile('sample1.txt')\n",
    "rdd2.take(4)"
   ]
  },
  {
   "cell_type": "markdown",
   "id": "e55ae192",
   "metadata": {},
   "source": [
    "### Count the total number of rows in RDD"
   ]
  },
  {
   "cell_type": "code",
   "execution_count": 5,
   "id": "0b3be34e",
   "metadata": {},
   "outputs": [
    {
     "data": {
      "text/plain": [
       "7"
      ]
     },
     "execution_count": 5,
     "metadata": {},
     "output_type": "execute_result"
    }
   ],
   "source": [
    "rdd2.count()"
   ]
  },
  {
   "cell_type": "markdown",
   "id": "35652e93",
   "metadata": {},
   "source": [
    "### Create a function to convert the data into lower case and splitting it"
   ]
  },
  {
   "cell_type": "code",
   "execution_count": 6,
   "id": "3e8f7f45",
   "metadata": {
    "scrolled": true
   },
   "outputs": [
    {
     "data": {
      "text/plain": [
       "[['utilitatis', 'causa', 'amicitia', 'est', 'quaesita.'],\n",
       " ['lorem',\n",
       "  'ipsum',\n",
       "  'dolor',\n",
       "  'sit',\n",
       "  'amet,',\n",
       "  'consectetur',\n",
       "  'adipiscing',\n",
       "  'elit.'],\n",
       " ['collatio',\n",
       "  'igitur',\n",
       "  'ista',\n",
       "  'te',\n",
       "  'nihil',\n",
       "  'iuvat.',\n",
       "  'honesta',\n",
       "  'oratio,',\n",
       "  'socratica,',\n",
       "  'platonis',\n",
       "  'etiam.',\n",
       "  'primum',\n",
       "  'in',\n",
       "  'nostrane',\n",
       "  'potestate',\n",
       "  'est,',\n",
       "  'quid',\n",
       "  'meminerimus?'],\n",
       " ['duo', 'reges:', 'constructio', 'interrete.'],\n",
       " ['quid,',\n",
       "  'si',\n",
       "  'etiam',\n",
       "  'iucunda',\n",
       "  'memoria',\n",
       "  'est',\n",
       "  'praeteritorum',\n",
       "  'malorum?',\n",
       "  'si',\n",
       "  'quidem,',\n",
       "  'inquit,',\n",
       "  'tollerem,',\n",
       "  'sed',\n",
       "  'relinquo.',\n",
       "  'an',\n",
       "  'nisi',\n",
       "  'populari',\n",
       "  'fama?'],\n",
       " [],\n",
       " ['quamquam',\n",
       "  'id',\n",
       "  'quidem',\n",
       "  'licebit',\n",
       "  'iis',\n",
       "  'existimare,',\n",
       "  'qui',\n",
       "  'legerint.',\n",
       "  'summum',\n",
       "  'a',\n",
       "  'vobis',\n",
       "  'bonum',\n",
       "  'voluptas',\n",
       "  'dicitur.',\n",
       "  'at',\n",
       "  'hoc',\n",
       "  'in',\n",
       "  'eo',\n",
       "  'm.',\n",
       "  'refert',\n",
       "  'tamen,',\n",
       "  'quo',\n",
       "  'modo.',\n",
       "  'quid',\n",
       "  'sequatur,',\n",
       "  'quid',\n",
       "  'repugnet,',\n",
       "  'vident.',\n",
       "  'iam',\n",
       "  'id',\n",
       "  'ipsum',\n",
       "  'absurdum,',\n",
       "  'maximum',\n",
       "  'malum',\n",
       "  'neglegi.']]"
      ]
     },
     "execution_count": 6,
     "metadata": {},
     "output_type": "execute_result"
    }
   ],
   "source": [
    "def lower_split(line):\n",
    "    line = line.lower()\n",
    "    words = line.split()\n",
    "    return words\n",
    "rdd3 = rdd2.map(lower_split)\n",
    "rdd3.collect()"
   ]
  },
  {
   "cell_type": "markdown",
   "id": "4cfa29af",
   "metadata": {},
   "source": [
    "### Filter the stopwords from the previous text"
   ]
  },
  {
   "cell_type": "code",
   "execution_count": 7,
   "id": "97c1e731",
   "metadata": {},
   "outputs": [],
   "source": [
    "stopwords = ['a','all','the','as','is','am','an','and',\n",
    "             'be','been','from','had','I','I’d','why','with']\n",
    "# Hint: you may need use flatMap"
   ]
  },
  {
   "cell_type": "code",
   "execution_count": 8,
   "id": "65fa1d91",
   "metadata": {},
   "outputs": [
    {
     "data": {
      "text/plain": [
       "['utilitatis',\n",
       " 'causa',\n",
       " 'amicitia',\n",
       " 'est',\n",
       " 'quaesita.',\n",
       " 'lorem',\n",
       " 'ipsum',\n",
       " 'dolor',\n",
       " 'sit',\n",
       " 'amet,']"
      ]
     },
     "execution_count": 8,
     "metadata": {},
     "output_type": "execute_result"
    }
   ],
   "source": [
    "rdd4 = rdd2.flatMap(lower_split)\n",
    "rdd4.filter(lambda word: word not in stopwords).take(10)"
   ]
  },
  {
   "cell_type": "markdown",
   "id": "eb066a90",
   "metadata": {},
   "source": [
    "### Filter the words starting with ‘c’"
   ]
  },
  {
   "cell_type": "code",
   "execution_count": 9,
   "id": "7f39a4b8",
   "metadata": {},
   "outputs": [
    {
     "data": {
      "text/plain": [
       "['causa', 'consectetur', 'collatio', 'constructio']"
      ]
     },
     "execution_count": 9,
     "metadata": {},
     "output_type": "execute_result"
    }
   ],
   "source": [
    "rdd4.filter(lambda word: word[0] == 'c').collect()"
   ]
  },
  {
   "cell_type": "code",
   "execution_count": 10,
   "id": "f085021b-a9bf-4e5c-8535-5c68d6efdafd",
   "metadata": {},
   "outputs": [],
   "source": [
    "# OR\n",
    "# filteredRDD = rdd4.filter(lambda x: x.startswith('c'))\n",
    "# filteredRDD.distinct().take(10)"
   ]
  },
  {
   "cell_type": "markdown",
   "id": "eba39e2e",
   "metadata": {},
   "source": [
    "### Reduce the data by key and sum it (use the data from the following list)"
   ]
  },
  {
   "cell_type": "code",
   "execution_count": 11,
   "id": "f26dea46",
   "metadata": {},
   "outputs": [],
   "source": [
    "list = [('JK', 22), ('V', 24), ('Jimin',24), ('RM', 25)\n",
    "        , ('J-Hope', 25), ('Suga', 26), ('Jin', 27)\n",
    "       , ('J-Hope', 12), ('Suga', 25), ('Jin', 34)\n",
    "       , ('JK', 32), ('V', 44), ('Jimin',14), ('RM', 35)]\n",
    "# Hint: use reduceByKey"
   ]
  },
  {
   "cell_type": "code",
   "execution_count": 12,
   "id": "aecf9e0c-c743-47ae-837d-4aee01e3f13e",
   "metadata": {},
   "outputs": [
    {
     "data": {
      "text/plain": [
       "[('JK', 22),\n",
       " ('V', 24),\n",
       " ('Jimin', 24),\n",
       " ('RM', 25),\n",
       " ('J-Hope', 25),\n",
       " ('Suga', 26),\n",
       " ('Jin', 27),\n",
       " ('J-Hope', 12),\n",
       " ('Suga', 25),\n",
       " ('Jin', 34),\n",
       " ('JK', 32),\n",
       " ('V', 44),\n",
       " ('Jimin', 14),\n",
       " ('RM', 35)]"
      ]
     },
     "execution_count": 12,
     "metadata": {},
     "output_type": "execute_result"
    }
   ],
   "source": [
    "rdd = sc.parallelize(list)\n",
    "rdd.collect()"
   ]
  },
  {
   "cell_type": "code",
   "execution_count": 13,
   "id": "ae551b82",
   "metadata": {},
   "outputs": [
    {
     "name": "stderr",
     "output_type": "stream",
     "text": [
      "                                                                                \r"
     ]
    },
    {
     "data": {
      "text/plain": [
       "[('JK', 54),\n",
       " ('J-Hope', 37),\n",
       " ('Suga', 51),\n",
       " ('Jin', 61),\n",
       " ('V', 68),\n",
       " ('Jimin', 38),\n",
       " ('RM', 60)]"
      ]
     },
     "execution_count": 13,
     "metadata": {},
     "output_type": "execute_result"
    }
   ],
   "source": [
    "rdd2 = rdd.reduceByKey(lambda x, y: (x + y))\n",
    "rdd2.collect()"
   ]
  },
  {
   "cell_type": "markdown",
   "id": "a4587230",
   "metadata": {},
   "source": [
    "### Creat some key value pairs RDDs"
   ]
  },
  {
   "cell_type": "code",
   "execution_count": 14,
   "id": "cfb446ee",
   "metadata": {},
   "outputs": [],
   "source": [
    "rdd1 = sc.parallelize([('a',2),('b',3)])\n",
    "rdd2 = sc.parallelize([('a',9),('b',7),('c',10)])"
   ]
  },
  {
   "cell_type": "code",
   "execution_count": 15,
   "id": "dd02d007-983b-4c97-bf3f-a3ebe6d84f73",
   "metadata": {},
   "outputs": [
    {
     "data": {
      "text/plain": [
       "[('a', 2), ('b', 3)]"
      ]
     },
     "execution_count": 15,
     "metadata": {},
     "output_type": "execute_result"
    }
   ],
   "source": [
    "rdd1.collect()"
   ]
  },
  {
   "cell_type": "code",
   "execution_count": 16,
   "id": "37c0afa6-6af6-4723-b16f-a3a812b3e771",
   "metadata": {},
   "outputs": [
    {
     "data": {
      "text/plain": [
       "[('a', 9), ('b', 7), ('c', 10)]"
      ]
     },
     "execution_count": 16,
     "metadata": {},
     "output_type": "execute_result"
    }
   ],
   "source": [
    "rdd2.collect()"
   ]
  },
  {
   "cell_type": "markdown",
   "id": "98ec3168",
   "metadata": {},
   "source": [
    "### Perform Join operation on the RDDs (rdd1,rdd2)"
   ]
  },
  {
   "cell_type": "code",
   "execution_count": 17,
   "id": "c61b5926",
   "metadata": {},
   "outputs": [
    {
     "data": {
      "text/plain": [
       "[('a', (2, 9)), ('b', (3, 7))]"
      ]
     },
     "execution_count": 17,
     "metadata": {},
     "output_type": "execute_result"
    }
   ],
   "source": [
    "rdd1.join(rdd2).collect()"
   ]
  }
 ],
 "metadata": {
  "kernelspec": {
   "display_name": "Python 3 (ipykernel)",
   "language": "python",
   "name": "python3"
  },
  "language_info": {
   "codemirror_mode": {
    "name": "ipython",
    "version": 3
   },
   "file_extension": ".py",
   "mimetype": "text/x-python",
   "name": "python",
   "nbconvert_exporter": "python",
   "pygments_lexer": "ipython3",
   "version": "3.8.10"
  }
 },
 "nbformat": 4,
 "nbformat_minor": 5
}
